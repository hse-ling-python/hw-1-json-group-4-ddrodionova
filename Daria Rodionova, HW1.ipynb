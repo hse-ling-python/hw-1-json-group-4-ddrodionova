{
 "cells": [
  {
   "cell_type": "markdown",
   "metadata": {},
   "source": [
    "# Домашнее задание №1"
   ]
  },
  {
   "cell_type": "markdown",
   "metadata": {},
   "source": [
    "## Дарья Родионова БКЛ184"
   ]
  },
  {
   "cell_type": "markdown",
   "metadata": {},
   "source": [
    "### Разбор твитов"
   ]
  },
  {
   "cell_type": "markdown",
   "metadata": {},
   "source": [
    "Для начала включим проверку. "
   ]
  },
  {
   "cell_type": "code",
   "execution_count": 2,
   "metadata": {},
   "outputs": [
    {
     "name": "stdout",
     "output_type": "stream",
     "text": [
      "Collecting pycodestyle\n",
      "\u001b[?25l  Downloading https://files.pythonhosted.org/packages/0e/0c/04a353e104d2f324f8ee5f4b32012618c1c86dd79e52a433b64fceed511b/pycodestyle-2.5.0-py2.py3-none-any.whl (51kB)\n",
      "\u001b[K     |████████████████████████████████| 51kB 296kB/s eta 0:00:01\n",
      "\u001b[?25hCollecting flake8\n",
      "\u001b[?25l  Downloading https://files.pythonhosted.org/packages/26/de/3f815a99d86eb10464ea7bd6059c0172c7ca97d4bdcfca41051b388a653b/flake8-3.7.8-py2.py3-none-any.whl (70kB)\n",
      "\u001b[K     |████████████████████████████████| 71kB 738kB/s eta 0:00:011\n",
      "\u001b[?25hCollecting pycodestyle_magic\n",
      "  Downloading https://files.pythonhosted.org/packages/cc/b7/a108c9e08405d71719903b25b7ee1c6c9287ff6ade85164bd659842c4793/pycodestyle_magic-0.4-py2.py3-none-any.whl\n",
      "Collecting pyflakes<2.2.0,>=2.1.0 (from flake8)\n",
      "\u001b[?25l  Downloading https://files.pythonhosted.org/packages/84/f2/ed0ffb887f8138a8fe5a621b8c0bb9598bfb3989e029f6c6a85ee66628ee/pyflakes-2.1.1-py2.py3-none-any.whl (59kB)\n",
      "\u001b[K     |████████████████████████████████| 61kB 681kB/s eta 0:00:01\n",
      "\u001b[?25hRequirement already satisfied: entrypoints<0.4.0,>=0.3.0 in /Library/Frameworks/Python.framework/Versions/3.7/lib/python3.7/site-packages (from flake8) (0.3)\n",
      "Collecting mccabe<0.7.0,>=0.6.0 (from flake8)\n",
      "  Downloading https://files.pythonhosted.org/packages/87/89/479dc97e18549e21354893e4ee4ef36db1d237534982482c3681ee6e7b57/mccabe-0.6.1-py2.py3-none-any.whl\n",
      "Installing collected packages: pycodestyle, pyflakes, mccabe, flake8, pycodestyle-magic\n",
      "Successfully installed flake8-3.7.8 mccabe-0.6.1 pycodestyle-2.5.0 pycodestyle-magic-0.4 pyflakes-2.1.1\n"
     ]
    }
   ],
   "source": [
    "! pip3 install pycodestyle flake8 pycodestyle_magic"
   ]
  },
  {
   "cell_type": "code",
   "execution_count": 3,
   "metadata": {},
   "outputs": [],
   "source": [
    "%load_ext pycodestyle_magic\n",
    "%pycodestyle_on"
   ]
  },
  {
   "cell_type": "markdown",
   "metadata": {},
   "source": [
    "Импортируем модуль JSON и переводим файл в список словарей."
   ]
  },
  {
   "cell_type": "code",
   "execution_count": 1,
   "metadata": {},
   "outputs": [],
   "source": [
    "import json\n",
    "twitter = []\n",
    "for line in open('hw_3_twitter.json'):\n",
    "    twitter.append(json.loads(line))"
   ]
  },
  {
   "cell_type": "markdown",
   "metadata": {},
   "source": [
    "### 1. Количество твитов"
   ]
  },
  {
   "cell_type": "code",
   "execution_count": 2,
   "metadata": {},
   "outputs": [
    {
     "name": "stdout",
     "output_type": "stream",
     "text": [
      "Количество твитов: 2556\n"
     ]
    }
   ],
   "source": [
    "num_of_tweets = len(twitter)\n",
    "print('Количество твитов: ' + str(num_of_tweets))"
   ]
  },
  {
   "cell_type": "markdown",
   "metadata": {},
   "source": [
    "### 2. Количество удалённых твитов"
   ]
  },
  {
   "cell_type": "markdown",
   "metadata": {},
   "source": [
    "Создаём два пустых списка, existing и deleted. Находим те словари, в которых встречается ключ 'delete', и добавляем его в соответсвующий список. Список с неудалёнными твитами понадобится нам позже. "
   ]
  },
  {
   "cell_type": "code",
   "execution_count": 34,
   "metadata": {},
   "outputs": [],
   "source": [
    "deleted = []\n",
    "existing = []\n",
    "for i in range(num_of_tweets):\n",
    "    if 'delete' in twitter[i].keys():\n",
    "        deleted.append(twitter[i])\n",
    "    else:\n",
    "        existing.append(twitter[i])\n",
    "percent = len(deleted) / num_of_tweets * 100"
   ]
  },
  {
   "cell_type": "markdown",
   "metadata": {},
   "source": [
    "#### Ответ:"
   ]
  },
  {
   "cell_type": "code",
   "execution_count": 4,
   "metadata": {},
   "outputs": [
    {
     "name": "stdout",
     "output_type": "stream",
     "text": [
      "Процент удалённых твиттов:  14.162754303599373\n"
     ]
    }
   ],
   "source": [
    "print('Процент удалённых твиттов: ', percent)"
   ]
  },
  {
   "cell_type": "markdown",
   "metadata": {},
   "source": [
    "### 3. Самые популярные языки твитов"
   ]
  },
  {
   "cell_type": "markdown",
   "metadata": {},
   "source": [
    "Импортируем модуль Counter."
   ]
  },
  {
   "cell_type": "code",
   "execution_count": 5,
   "metadata": {},
   "outputs": [],
   "source": [
    "from collections import Counter"
   ]
  },
  {
   "cell_type": "markdown",
   "metadata": {},
   "source": [
    "Создаём список, который будет содержать языки из каждого твита. Затем добавляем значение ключа 'lang'. "
   ]
  },
  {
   "cell_type": "code",
   "execution_count": 61,
   "metadata": {},
   "outputs": [],
   "source": [
    "languages = []\n",
    "ex_tweets = len(existing)\n",
    "for i in twitter:\n",
    "    if 'lang' in i:\n",
    "        languages.append(i['lang'])"
   ]
  },
  {
   "cell_type": "markdown",
   "metadata": {},
   "source": [
    "Создаём частотный словарь и выводим список 10 самых популярных языков."
   ]
  },
  {
   "cell_type": "code",
   "execution_count": 62,
   "metadata": {},
   "outputs": [],
   "source": [
    "lang_count = Counter(languages)\n",
    "i = 1\n",
    "lang_list = 'Номер\\tЯзык\\tКоличество твитов\\n'\n",
    "for lang, count in lang_count.most_common(10):\n",
    "    lang_list += (str(i) + '\\t' + lang + '\\t' + str(count) + '\\n')\n",
    "    i += 1"
   ]
  },
  {
   "cell_type": "markdown",
   "metadata": {},
   "source": [
    "#### Ответ:"
   ]
  },
  {
   "cell_type": "code",
   "execution_count": 63,
   "metadata": {},
   "outputs": [
    {
     "name": "stdout",
     "output_type": "stream",
     "text": [
      "10 самых популярных языков:\n",
      "Номер\tЯзык\tКоличество твитов\n",
      "1\ten\t719\n",
      "2\tja\t438\n",
      "3\tes\t173\n",
      "4\tko\t149\n",
      "5\tth\t123\n",
      "6\tar\t119\n",
      "7\tund\t117\n",
      "8\tin\t71\n",
      "9\tpt\t69\n",
      "10\tfr\t35\n",
      "\n"
     ]
    }
   ],
   "source": [
    "print('10 самых популярных языков:\\n', lang_list, sep='')"
   ]
  },
  {
   "cell_type": "markdown",
   "metadata": {},
   "source": [
    "### 4. Твиты от одного и того же пользователя"
   ]
  },
  {
   "cell_type": "markdown",
   "metadata": {},
   "source": [
    "Создаём список из id пользователей, не включая неудалённые твиты."
   ]
  },
  {
   "cell_type": "code",
   "execution_count": 54,
   "metadata": {},
   "outputs": [],
   "source": [
    "user_id = []\n",
    "for i in twitter:\n",
    "    if 'user' in i:\n",
    "        user_id.append(i['user']['id'])"
   ]
  },
  {
   "cell_type": "markdown",
   "metadata": {},
   "source": [
    "Далее преобразуем список в частотный словарь. "
   ]
  },
  {
   "cell_type": "code",
   "execution_count": 55,
   "metadata": {},
   "outputs": [],
   "source": [
    "users = Counter(user_id)"
   ]
  },
  {
   "cell_type": "code",
   "execution_count": 56,
   "metadata": {},
   "outputs": [],
   "source": [
    "matched = 0\n",
    "for value in users.values():\n",
    "    if value > 1:\n",
    "        matched += 1"
   ]
  },
  {
   "cell_type": "markdown",
   "metadata": {},
   "source": [
    "#### Ответ:"
   ]
  },
  {
   "cell_type": "code",
   "execution_count": 57,
   "metadata": {},
   "outputs": [
    {
     "name": "stdout",
     "output_type": "stream",
     "text": [
      "Количество пользователей с повторяющимися твитами:  25\n"
     ]
    }
   ],
   "source": [
    "print('Количество пользователей с повторяющимися твитами: ', matched)"
   ]
  },
  {
   "cell_type": "markdown",
   "metadata": {},
   "source": [
    "### 5. Топ-20 популярных хэштегов"
   ]
  },
  {
   "cell_type": "markdown",
   "metadata": {},
   "source": [
    "Создадим пустой список из хэштегов из каждого твита, для этого ищем по ключу hashtag нужную информацию, чтобы добавить её в список."
   ]
  },
  {
   "cell_type": "code",
   "execution_count": 18,
   "metadata": {},
   "outputs": [],
   "source": [
    "hashtag_list = []\n",
    "for i in range(ex_tweets):\n",
    "    hashtag = existing[i]['entities']['hashtags']\n",
    "    hasht = len(hashtag)\n",
    "    if hasht != 0:\n",
    "        for j in range(hasht):\n",
    "            hashtag_list.append(hashtag[j]['text'])  "
   ]
  },
  {
   "cell_type": "markdown",
   "metadata": {},
   "source": [
    "Переводим всё в Counter. "
   ]
  },
  {
   "cell_type": "code",
   "execution_count": 19,
   "metadata": {},
   "outputs": [],
   "source": [
    "i = 1\n",
    "top_hashtags = 'Номер\\tХэштег\\tКоличество\\n'\n",
    "for tag, num in Counter(hashtag_list).most_common(20):\n",
    "    top_hashtags += (str(i) + '\\t' + tag + '\\t' + str(num) + '\\n')\n",
    "    i += 1"
   ]
  },
  {
   "cell_type": "markdown",
   "metadata": {},
   "source": [
    "#### Ответ:"
   ]
  },
  {
   "cell_type": "code",
   "execution_count": 58,
   "metadata": {},
   "outputs": [
    {
     "name": "stdout",
     "output_type": "stream",
     "text": [
      "20 самых популярных хэштегов:\n",
      "Номер\tХэштег\tКоличество\n",
      "1\tBTS\t17\n",
      "2\t방탄소년단\t13\n",
      "3\tAMAs\t11\n",
      "4\t人気投票ガチャ\t8\n",
      "5\t태형\t7\n",
      "6\t뷔\t6\n",
      "7\tBTSinChicago\t5\n",
      "8\tBTSLoveYourselfTour\t5\n",
      "9\t오늘의방탄\t5\n",
      "10\tPledgeForSwachhBharat\t5\n",
      "11\tMPN\t5\n",
      "12\tPCAs\t4\n",
      "13\tV\t4\n",
      "14\t시카고1회차공연\t4\n",
      "15\tเป๊กผลิตโชค\t4\n",
      "16\tJIMIN\t4\n",
      "17\trunning\t3\n",
      "18\tNCT\t3\n",
      "19\t지민\t3\n",
      "20\tWajahmuPlastik\t3\n",
      "\n"
     ]
    }
   ],
   "source": [
    "print('20 самых популярных хэштегов:\\n', top_hashtags, sep='')"
   ]
  },
  {
   "cell_type": "markdown",
   "metadata": {},
   "source": [
    "### 6. Частотный словарь твитов на английском языке"
   ]
  },
  {
   "cell_type": "code",
   "execution_count": 21,
   "metadata": {},
   "outputs": [],
   "source": [
    "from string import punctuation"
   ]
  },
  {
   "cell_type": "markdown",
   "metadata": {},
   "source": [
    "Нас интересуют все англоязычные твиты, при этом не ретвиты и не quoted. "
   ]
  },
  {
   "cell_type": "code",
   "execution_count": 22,
   "metadata": {},
   "outputs": [],
   "source": [
    "original_tweets = []\n",
    "for i in range(ex_tweets):\n",
    "    if ('retweeted_status' not in existing[i].keys()\n",
    "       and 'quoted_status' not in existing[i].keys()\n",
    "       and existing[i]['lang'] == 'en'):\n",
    "        original_tweets.append(existing[i]['text'])"
   ]
  },
  {
   "cell_type": "markdown",
   "metadata": {},
   "source": [
    "Создаём пустой список, в который позже заносим отчищенные от пунктуации тексты. Затем создаём частотный словарь и выводим список самых частотных слов. "
   ]
  },
  {
   "cell_type": "code",
   "execution_count": 23,
   "metadata": {},
   "outputs": [],
   "source": [
    "word_list = []\n",
    "for tweet in original_tweets:\n",
    "    tweet = tweet.lower().split()\n",
    "    for word in tweet:\n",
    "        if word not in punctuation and word != '':\n",
    "            word.strip(punctuation)\n",
    "            word_list.append(word)"
   ]
  },
  {
   "cell_type": "code",
   "execution_count": 24,
   "metadata": {},
   "outputs": [],
   "source": [
    "i = 1\n",
    "word_counter = 'Номер\\tСлово\\tКоличество вхождений\\n'\n",
    "for word, num in Counter(word_list).most_common(20):\n",
    "    word_counter += (str(i) + '\\t' + word + '\\t' + str(num) + '\\n')\n",
    "    i += 1"
   ]
  },
  {
   "cell_type": "markdown",
   "metadata": {},
   "source": [
    "#### Ответ:"
   ]
  },
  {
   "cell_type": "code",
   "execution_count": 47,
   "metadata": {},
   "outputs": [
    {
     "name": "stdout",
     "output_type": "stream",
     "text": [
      "50 самых частотных слов:\n",
      "Номер\tСлово\tКоличество вхождений\n",
      "1\tthe\t106\n",
      "2\tto\t78\n",
      "3\ta\t65\n",
      "4\ti\t59\n",
      "5\tand\t57\n",
      "6\tyou\t41\n",
      "7\tfor\t40\n",
      "8\tis\t40\n",
      "9\tof\t39\n",
      "10\tin\t32\n",
      "11\tit\t30\n",
      "12\tthat\t29\n",
      "13\ton\t25\n",
      "14\tmy\t25\n",
      "15\tme\t23\n",
      "16\tbe\t20\n",
      "17\tthis\t19\n",
      "18\tare\t19\n",
      "19\thave\t18\n",
      "20\tbut\t17\n",
      "\n"
     ]
    }
   ],
   "source": [
    "print('50 самых частотных слов:\\n', word_counter, sep='')"
   ]
  },
  {
   "cell_type": "markdown",
   "metadata": {},
   "source": [
    "### 7. Топ-10 пользователей по количеству подписчиков"
   ]
  },
  {
   "cell_type": "markdown",
   "metadata": {},
   "source": [
    "Создаём словарь и записываем в него информацию о пользователях и количестве подписчиков. "
   ]
  },
  {
   "cell_type": "code",
   "execution_count": 26,
   "metadata": {},
   "outputs": [],
   "source": [
    "followers = []\n",
    "for i in range(ex_tweets):\n",
    "    followers.append((existing[i]['user']['name'], \n",
    "                     existing[i]['user']['followers_count']))"
   ]
  },
  {
   "cell_type": "code",
   "execution_count": 27,
   "metadata": {},
   "outputs": [],
   "source": [
    "followers_data = Counter()\n",
    "for item in followers:\n",
    "    followers_data[item[0]] = item[1]"
   ]
  },
  {
   "cell_type": "markdown",
   "metadata": {},
   "source": [
    "Извлекаем данные о 10 самых популярных пользователях. "
   ]
  },
  {
   "cell_type": "code",
   "execution_count": 28,
   "metadata": {},
   "outputs": [],
   "source": [
    "i = 1\n",
    "followers_num = 'Номер\\tПользователь\\tКоличество подписчиков\\n'\n",
    "for name, num in followers_data.most_common(10):\n",
    "    followers_num += (str(i) + '\\t' + name + '\\t' + str(num) + '\\n')\n",
    "    i += 1"
   ]
  },
  {
   "cell_type": "markdown",
   "metadata": {},
   "source": [
    "#### Ответ:"
   ]
  },
  {
   "cell_type": "code",
   "execution_count": 67,
   "metadata": {},
   "outputs": [
    {
     "name": "stdout",
     "output_type": "stream",
     "text": [
      "10 самых популярных пользователей:\n",
      "Номер\tПользователь\tКоличество подписчиков\n",
      "1\tFilosofía♕\t2521403\n",
      "2\tFITNESS Magazine\t1491309\n",
      "3\tmalaysiakini.com\t1206759\n",
      "4\tNYT Science\t1137374\n",
      "5\tGramática\t625463\n",
      "6\tTGRT Haber\t392472\n",
      "7\tThe Sun Football ⚽\t383698\n",
      "8\tMelbourne, Australia\t374222\n",
      "9\tRoznama Express\t318189\n",
      "10\t💞 ცųཞɠɛཞცơơɠıɛ 💞\t311319\n",
      "\n"
     ]
    }
   ],
   "source": [
    "print('10 самых популярных пользователей:\\n', followers_num, sep='')"
   ]
  },
  {
   "cell_type": "markdown",
   "metadata": {},
   "source": [
    "### 8. Топ-10 источников"
   ]
  },
  {
   "cell_type": "markdown",
   "metadata": {},
   "source": [
    "Создаём список из источника каждого твита, затем с помощью регулярного выражения вынимаем название источника, которое запишем в список. Потом стандартно преобразуём всё в частотный список."
   ]
  },
  {
   "cell_type": "code",
   "execution_count": 30,
   "metadata": {},
   "outputs": [],
   "source": [
    "import re\n",
    "sources = []\n",
    "for i in twitter:\n",
    "    if 'source' in i:\n",
    "        match = re.findall(r'rel=\"nofollow\">(.+)</a>', i['source'])\n",
    "        sources.extend(match)"
   ]
  },
  {
   "cell_type": "code",
   "execution_count": 31,
   "metadata": {},
   "outputs": [],
   "source": [
    "i = 1\n",
    "num_of_sources = 'Номер\\tИсточник\\tКоличество записей\\n'\n",
    "for source, num in Counter(sources).most_common(10):\n",
    "    num_of_sources += (str(i) + '\\t' + source + '\\t' + str(num) + '\\n')\n",
    "    i += 1"
   ]
  },
  {
   "cell_type": "markdown",
   "metadata": {},
   "source": [
    "#### Ответ:"
   ]
  },
  {
   "cell_type": "code",
   "execution_count": 45,
   "metadata": {},
   "outputs": [
    {
     "name": "stdout",
     "output_type": "stream",
     "text": [
      "10 самых популярных источников:\n",
      "Номер\tИсточник\tКоличество записей\n",
      "1\tTwitter for iPhone\t800\n",
      "2\tTwitter for Android\t695\n",
      "3\tTwitter Web Client\t140\n",
      "4\ttwittbot.net\t122\n",
      "5\tTwitter Lite\t51\n",
      "6\tTwitter for iPad\t28\n",
      "7\tTweetDeck\t23\n",
      "8\tFacebook\t17\n",
      "9\tIFTTT\t14\n",
      "10\tتطبيق قرآني\t10\n",
      "\n"
     ]
    }
   ],
   "source": [
    "print('10 самых популярных источников:\\n', num_of_sources, sep='')"
   ]
  }
 ],
 "metadata": {
  "kernelspec": {
   "display_name": "Python 3",
   "language": "python",
   "name": "python3"
  },
  "language_info": {
   "codemirror_mode": {
    "name": "ipython",
    "version": 3
   },
   "file_extension": ".py",
   "mimetype": "text/x-python",
   "name": "python",
   "nbconvert_exporter": "python",
   "pygments_lexer": "ipython3",
   "version": "3.7.0"
  }
 },
 "nbformat": 4,
 "nbformat_minor": 2
}
